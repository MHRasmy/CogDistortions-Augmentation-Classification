{
  "metadata": {
    "kernelspec": {
      "language": "python",
      "display_name": "Python 3",
      "name": "python3"
    },
    "language_info": {
      "name": "python",
      "version": "3.10.13",
      "mimetype": "text/x-python",
      "codemirror_mode": {
        "name": "ipython",
        "version": 3
      },
      "pygments_lexer": "ipython3",
      "nbconvert_exporter": "python",
      "file_extension": ".py"
    },
    "kaggle": {
      "accelerator": "gpu",
      "dataSources": [
        {
          "sourceId": 6812988,
          "sourceType": "datasetVersion",
          "datasetId": 3919240
        },
        {
          "sourceId": 7252302,
          "sourceType": "datasetVersion",
          "datasetId": 4202006
        },
        {
          "sourceId": 7435042,
          "sourceType": "datasetVersion",
          "datasetId": 4184383
        },
        {
          "sourceId": 7444797,
          "sourceType": "datasetVersion",
          "datasetId": 4188417
        },
        {
          "sourceId": 8101349,
          "sourceType": "datasetVersion",
          "datasetId": 3952361
        }
      ],
      "dockerImageVersionId": 30699,
      "isInternetEnabled": true,
      "language": "python",
      "sourceType": "notebook",
      "isGpuEnabled": true
    },
    "colab": {
      "provenance": []
    }
  },
  "nbformat_minor": 0,
  "nbformat": 4,
  "cells": [
    {
      "cell_type": "markdown",
      "source": [
        "# CNN-BERT (baseline)\n",
        "\n",
        "\n",
        "<a id=\"Table-of-Contents\"></a>\n",
        "## Table of Contents\n",
        "- [Section 1: Hyperparameters](#Hyperparameters)\n",
        "- [Section 2: Data Preprocessing](#Data-Preprocessing)\n",
        "- [Section 3: Training Function](#Training-Function)\n",
        "- [Section 4: Training & Evaluation Results](#Training-and-Evaluation)"
      ],
      "metadata": {
        "id": "g1l_X7pDM8F0"
      }
    },
    {
      "cell_type": "markdown",
      "source": [
        "## Installing the required dependencies"
      ],
      "metadata": {
        "id": "L37E09mcM8F_"
      }
    },
    {
      "cell_type": "code",
      "source": [
        "!pip install torch transformers[torch] accelerate evaluate --quiet"
      ],
      "metadata": {
        "execution": {
          "iopub.status.busy": "2024-05-20T08:28:07.942489Z",
          "iopub.execute_input": "2024-05-20T08:28:07.943039Z",
          "iopub.status.idle": "2024-05-20T08:28:21.871911Z",
          "shell.execute_reply.started": "2024-05-20T08:28:07.943009Z",
          "shell.execute_reply": "2024-05-20T08:28:21.870868Z"
        },
        "trusted": true,
        "id": "mWNjH1_YM8GD"
      },
      "execution_count": null,
      "outputs": []
    },
    {
      "cell_type": "code",
      "source": [
        "# pip install pandas==1.5.3 --quiet"
      ],
      "metadata": {
        "execution": {
          "iopub.status.busy": "2024-05-20T08:29:32.700322Z",
          "iopub.execute_input": "2024-05-20T08:29:32.700703Z",
          "iopub.status.idle": "2024-05-20T08:29:32.706064Z",
          "shell.execute_reply.started": "2024-05-20T08:29:32.700673Z",
          "shell.execute_reply": "2024-05-20T08:29:32.704689Z"
        },
        "trusted": true,
        "id": "Lai8-Lo-M8GI"
      },
      "execution_count": null,
      "outputs": []
    },
    {
      "cell_type": "code",
      "source": [
        "# pip install datasets --quiet"
      ],
      "metadata": {
        "execution": {
          "iopub.status.busy": "2024-05-20T08:29:32.725239Z",
          "iopub.execute_input": "2024-05-20T08:29:32.725546Z",
          "iopub.status.idle": "2024-05-20T08:29:32.729451Z",
          "shell.execute_reply.started": "2024-05-20T08:29:32.725498Z",
          "shell.execute_reply": "2024-05-20T08:29:32.728569Z"
        },
        "trusted": true,
        "id": "zAfAhK-2M8GJ"
      },
      "execution_count": null,
      "outputs": []
    },
    {
      "cell_type": "code",
      "source": [
        "# pip install evaluate --quiet"
      ],
      "metadata": {
        "execution": {
          "iopub.status.busy": "2024-05-20T08:29:32.750130Z",
          "iopub.execute_input": "2024-05-20T08:29:32.750402Z",
          "iopub.status.idle": "2024-05-20T08:29:32.754388Z",
          "shell.execute_reply.started": "2024-05-20T08:29:32.750379Z",
          "shell.execute_reply": "2024-05-20T08:29:32.753501Z"
        },
        "trusted": true,
        "id": "wzuqLSvvM8GL"
      },
      "execution_count": null,
      "outputs": []
    },
    {
      "cell_type": "code",
      "source": [
        "import os\n",
        "import io\n",
        "import pandas as pd\n",
        "import numpy as np\n",
        "from numpy import random\n",
        "import matplotlib.pyplot as plt\n",
        "%matplotlib inline\n",
        "import re\n",
        "from ast import literal_eval\n",
        "\n",
        "import torch\n",
        "from torch.utils.data import Dataset, DataLoader\n",
        "from datasets import load_dataset\n",
        "from sklearn.metrics import classification_report, accuracy_score\n",
        "from sklearn.preprocessing import LabelEncoder\n",
        "from sklearn.metrics import accuracy_score, classification_report, confusion_matrix\n",
        "from sklearn.model_selection import train_test_split\n",
        "\n",
        "\n",
        "import nltk\n",
        "from nltk.corpus import stopwords\n",
        "from nltk.stem import PorterStemmer\n",
        "\n",
        "nltk.download(\"punkt\")\n",
        "nltk.download('wordnet')\n",
        "nltk.download('stopwords')\n",
        "\n",
        "import string\n",
        "from itertools import combinations\n",
        "\n",
        "import torch\n",
        "device = torch.device('cuda' if torch.cuda.is_available() else 'cpu')\n",
        "\n",
        "import transformers\n",
        "from transformers import (\n",
        "    AutoModel,\n",
        "    AutoTokenizer,\n",
        "    AutoModelForSequenceClassification,\n",
        "    TrainingArguments,\n",
        "    Trainer,\n",
        "    TrainerCallback,\n",
        "    DataCollatorWithPadding,\n",
        "    EarlyStoppingCallback,\n",
        "    BertModel,\n",
        "    BertTokenizer,\n",
        "    BertConfig\n",
        ")\n",
        "\n",
        "import torch.nn as nn\n",
        "import torch.nn.functional as F\n",
        "from torch.nn import CrossEntropyLoss\n",
        "from typing import List, Optional, Tuple, Union\n",
        "from transformers.modeling_outputs import SequenceClassifierOutput\n",
        "import seaborn as sns\n",
        "import wandb\n",
        "\n",
        "from datasets import load_metric\n",
        "import evaluate"
      ],
      "metadata": {
        "execution": {
          "iopub.status.busy": "2024-05-20T08:29:32.777749Z",
          "iopub.execute_input": "2024-05-20T08:29:32.778012Z",
          "iopub.status.idle": "2024-05-20T08:29:52.780856Z",
          "shell.execute_reply.started": "2024-05-20T08:29:32.777990Z",
          "shell.execute_reply": "2024-05-20T08:29:52.780054Z"
        },
        "trusted": true,
        "id": "GlQO3zGgM8GM",
        "outputId": "148bc8fa-a6eb-464b-fb80-54bcb1078fd7"
      },
      "execution_count": null,
      "outputs": [
        {
          "name": "stdout",
          "text": "[nltk_data] Downloading package punkt to /usr/share/nltk_data...\n[nltk_data]   Package punkt is already up-to-date!\n[nltk_data] Downloading package wordnet to /usr/share/nltk_data...\n[nltk_data]   Package wordnet is already up-to-date!\n[nltk_data] Downloading package stopwords to /usr/share/nltk_data...\n[nltk_data]   Package stopwords is already up-to-date!\n",
          "output_type": "stream"
        },
        {
          "name": "stderr",
          "text": "2024-05-20 08:29:43.713006: E external/local_xla/xla/stream_executor/cuda/cuda_dnn.cc:9261] Unable to register cuDNN factory: Attempting to register factory for plugin cuDNN when one has already been registered\n2024-05-20 08:29:43.713104: E external/local_xla/xla/stream_executor/cuda/cuda_fft.cc:607] Unable to register cuFFT factory: Attempting to register factory for plugin cuFFT when one has already been registered\n2024-05-20 08:29:43.860669: E external/local_xla/xla/stream_executor/cuda/cuda_blas.cc:1515] Unable to register cuBLAS factory: Attempting to register factory for plugin cuBLAS when one has already been registered\n",
          "output_type": "stream"
        }
      ]
    },
    {
      "cell_type": "markdown",
      "source": [
        "<a id=\"Hyperparameters\"></a>\n",
        "## Hyperparameters\n",
        "\n",
        "[Back to Top](#Table-of-Contents)"
      ],
      "metadata": {
        "id": "Yv99ZpCrM8GV"
      }
    },
    {
      "cell_type": "code",
      "source": [
        "dataset_path = '/kaggle/input/cognitive-distortions-data/Cognitive Distortions Data with DA.csv'\n",
        "\n",
        "\n",
        "classification = 2\n",
        "val_pct, test_pct = 0.3, 2/3\n",
        "\n",
        "model_name = \"bert-base-uncased\"\n",
        "\n",
        "is_CNN = True\n",
        "\n",
        "annotator_col = 'annotator'\n",
        "\n",
        "# Training Args\n",
        "epochs = 20\n",
        "train_batch_size = 300\n",
        "eval_batch_size = 300\n",
        "# lr = 4e-5 if model_name == \"roberta-base\" else 5e-5\n",
        "out_dir = \"cnnbert\"\n",
        "\n",
        "# early stopping hyperparameters\n",
        "e_stop_epochs = 2\n",
        "e_stop_patience = 0.01\n",
        "\n",
        "# loading the tokenizer\n",
        "tokenizer = AutoTokenizer.from_pretrained(model_name, use_fast=True)\n",
        "\n",
        "# specifying the padding token\n",
        "if model_name != \"bert-base-uncased\":\n",
        "    pad_token = tokenizer.eos_token\n",
        "    tokenizer.pad_token = pad_token\n",
        "\n",
        "# global var to be used across functions\n",
        "encoder = LabelEncoder()\n",
        "\n",
        "api_key = \"\"\n",
        "wandb.login(key=api_key)\n",
        "\n",
        "g1 = 'Blaming/Always Being Right/Fallacy of Fairness/Global Labelling/Jumping to Conclusions'\n",
        "g2 = 'Overgeneralization/Catastrophizing/Polarization'\n",
        "g3 = 'Emotional Reasoning/Control of Fallacies/Fallacy of Change/Mental Filtering'\n",
        "new_categories = {\n",
        "    'blaming': g1,\n",
        "    'overgeneralization': g2,\n",
        "    'personalization': 'personalization',\n",
        "    'catastrophizing': g2,\n",
        "    'jumping to conclusions': g1,\n",
        "    'mental filtering': g3,\n",
        "    'emotional reasoning': g3,\n",
        "    'polarization': g2,\n",
        "    'shoulds': 'shoulds',\n",
        "    'fallacy of fairness': g1,\n",
        "    'control of fallacies': g3,\n",
        "    'fallacy of change': g3,\n",
        "    'global labelling': g1,\n",
        "    'always being right': g1\n",
        "}"
      ],
      "metadata": {
        "execution": {
          "iopub.status.busy": "2024-05-20T08:29:52.782393Z",
          "iopub.execute_input": "2024-05-20T08:29:52.782683Z",
          "iopub.status.idle": "2024-05-20T08:29:56.603602Z",
          "shell.execute_reply.started": "2024-05-20T08:29:52.782658Z",
          "shell.execute_reply": "2024-05-20T08:29:56.602630Z"
        },
        "trusted": true,
        "colab": {
          "referenced_widgets": [
            "2797e9308c4e4e419bf343686cd8a795",
            "096a8765288441a5a55a4fd5b3b8684c",
            "84b1f9ed9c6c4c9ca7384c3a722b4cca",
            "9eff7cc973214a0e875cb25ba41021a4"
          ]
        },
        "id": "WxeSD_I5M8GX",
        "outputId": "25150368-0d64-415b-85a0-b53a7be02f80"
      },
      "execution_count": null,
      "outputs": [
        {
          "output_type": "display_data",
          "data": {
            "text/plain": "tokenizer_config.json:   0%|          | 0.00/48.0 [00:00<?, ?B/s]",
            "application/vnd.jupyter.widget-view+json": {
              "version_major": 2,
              "version_minor": 0,
              "model_id": "2797e9308c4e4e419bf343686cd8a795"
            }
          },
          "metadata": {}
        },
        {
          "output_type": "display_data",
          "data": {
            "text/plain": "config.json:   0%|          | 0.00/570 [00:00<?, ?B/s]",
            "application/vnd.jupyter.widget-view+json": {
              "version_major": 2,
              "version_minor": 0,
              "model_id": "096a8765288441a5a55a4fd5b3b8684c"
            }
          },
          "metadata": {}
        },
        {
          "output_type": "display_data",
          "data": {
            "text/plain": "vocab.txt:   0%|          | 0.00/232k [00:00<?, ?B/s]",
            "application/vnd.jupyter.widget-view+json": {
              "version_major": 2,
              "version_minor": 0,
              "model_id": "84b1f9ed9c6c4c9ca7384c3a722b4cca"
            }
          },
          "metadata": {}
        },
        {
          "output_type": "display_data",
          "data": {
            "text/plain": "tokenizer.json:   0%|          | 0.00/466k [00:00<?, ?B/s]",
            "application/vnd.jupyter.widget-view+json": {
              "version_major": 2,
              "version_minor": 0,
              "model_id": "9eff7cc973214a0e875cb25ba41021a4"
            }
          },
          "metadata": {}
        },
        {
          "name": "stderr",
          "text": "\u001b[34m\u001b[1mwandb\u001b[0m: W&B API key is configured. Use \u001b[1m`wandb login --relogin`\u001b[0m to force relogin\n\u001b[34m\u001b[1mwandb\u001b[0m: \u001b[33mWARNING\u001b[0m If you're specifying your api key in code, ensure this code is not shared publicly.\n\u001b[34m\u001b[1mwandb\u001b[0m: \u001b[33mWARNING\u001b[0m Consider setting the WANDB_API_KEY environment variable, or running `wandb login` from the command line.\n\u001b[34m\u001b[1mwandb\u001b[0m: Appending key for api.wandb.ai to your netrc file: /root/.netrc\n",
          "output_type": "stream"
        },
        {
          "execution_count": 5,
          "output_type": "execute_result",
          "data": {
            "text/plain": "True"
          },
          "metadata": {}
        }
      ]
    },
    {
      "cell_type": "markdown",
      "source": [
        "<a id=\"Data-Preprocessing\"></a>\n",
        "## Data Preprocessing\n",
        "\n",
        "[Back to Top](#Table-of-Contents)"
      ],
      "metadata": {
        "id": "BEF7iU5mM8Ga"
      }
    },
    {
      "cell_type": "code",
      "source": [
        "def update_sentence_augmentation(df, is_sr_ri=False):\n",
        "    df = df.melt(id_vars=[annotator_col], value_name='text')\n",
        "\n",
        "    def replace_rows(df):\n",
        "        new_rows = []\n",
        "        for index, row in df.iterrows():\n",
        "            if row['variable'] == 'SR_RI':\n",
        "                lst = literal_eval(row['text'])\n",
        "                for i, sentence in enumerate(lst):\n",
        "                    # selecting 1 SR & 1 RI to limit to max 2 augmentations\n",
        "                    if i % 2 == 0:\n",
        "                        new_row = row.copy()\n",
        "                        new_row['text'] = sentence\n",
        "                        new_rows.append(new_row)\n",
        "            else:\n",
        "                new_rows.append(row)\n",
        "        return pd.DataFrame(new_rows)\n",
        "\n",
        "    if (is_sr_ri == True):\n",
        "        df = replace_rows(df)\n",
        "    return df"
      ],
      "metadata": {
        "execution": {
          "iopub.status.busy": "2024-05-20T08:29:56.604706Z",
          "iopub.execute_input": "2024-05-20T08:29:56.605330Z",
          "iopub.status.idle": "2024-05-20T08:29:56.612846Z",
          "shell.execute_reply.started": "2024-05-20T08:29:56.605288Z",
          "shell.execute_reply": "2024-05-20T08:29:56.611850Z"
        },
        "trusted": true,
        "id": "Bdvb51wzM8Gc"
      },
      "execution_count": null,
      "outputs": []
    },
    {
      "cell_type": "code",
      "source": [
        "def text_and_col_processing(df, txt_col_name: str):\n",
        "    stpwrds = list(string.punctuation)\n",
        "    # stemmer = PorterStemmer()\n",
        "\n",
        "    # Lowering, Removing Punctuations & Stopwords, Stemming\n",
        "    def preprocess_text(sent):\n",
        "        return ' '.join([word.lower() for word in sent.split() if word.lower() not in stpwrds])\n",
        "\n",
        "    df[txt_col_name] = df[txt_col_name].apply(preprocess_text)\n",
        "\n",
        "    # Find sentences that became empty after preprocessing\n",
        "    empty_sentences_indices = df[df[txt_col_name].apply(len) == 0].index\n",
        "    df.drop(empty_sentences_indices, inplace=True)\n",
        "    df.reset_index(drop=True, inplace=True)\n",
        "\n",
        "    # performing label encoding the annotator classes\n",
        "    df['annotator_encoded'] = encoder.fit_transform(df[annotator_col])\n",
        "\n",
        "    # renaming the columns in the format accepted by the transformer\n",
        "    df[['label', 'text']] = df[['annotator_encoded', txt_col_name]]\n",
        "\n",
        "    # dropping unnecessary columns\n",
        "    df = df[['label', 'text']]\n",
        "\n",
        "    return df"
      ],
      "metadata": {
        "execution": {
          "iopub.status.busy": "2024-05-20T08:29:56.615065Z",
          "iopub.execute_input": "2024-05-20T08:29:56.615336Z",
          "iopub.status.idle": "2024-05-20T08:29:56.630074Z",
          "shell.execute_reply.started": "2024-05-20T08:29:56.615313Z",
          "shell.execute_reply": "2024-05-20T08:29:56.629134Z"
        },
        "trusted": true,
        "id": "9T5UVH9GM8Ge"
      },
      "execution_count": null,
      "outputs": []
    },
    {
      "cell_type": "code",
      "source": [
        "# preprocess_data function\n",
        "def preprocess_data(df, classification, cols_to_select, val_pct, test_pct):\n",
        "\n",
        "    df[annotator_col] = df[annotator_col].str.lower()\n",
        "    cols_to_select.append(annotator_col)\n",
        "    df = df[cols_to_select].dropna()\n",
        "\n",
        "    match classification:\n",
        "        case 2:\n",
        "            df[annotator_col] = df[annotator_col].apply(lambda x: 'neutral' if x == 'neutral' else 'distorted')\n",
        "        case 14:\n",
        "            df = df[df[annotator_col] != 'neutral']\n",
        "        case 5:\n",
        "            df = df[df[annotator_col] != 'neutral']\n",
        "            df[annotator_col] = df[annotator_col].map(new_categories)\n",
        "        case _:\n",
        "            raise Exception(\"Invalid Classification Type!\\n\")\n",
        "\n",
        "    # performing stratified splitting to the dataset with 70/10/20 train-val-test ratio\n",
        "    train, val = train_test_split(df, test_size=val_pct, random_state=42, shuffle=True, stratify = df[annotator_col])\n",
        "    val, test = train_test_split(val, test_size=test_pct, random_state=42, stratify = val[annotator_col])\n",
        "\n",
        "    is_sr_ri = True if 'SR_RI' in cols_to_select else False\n",
        "    train = update_sentence_augmentation(train, is_sr_ri)\n",
        "\n",
        "    train = text_and_col_processing(train, txt_col_name=\"text\")\n",
        "    val = text_and_col_processing(val, txt_col_name=\"sentence\")\n",
        "    test = text_and_col_processing(test, txt_col_name=\"sentence\")\n",
        "\n",
        "    train.to_csv(\"train.csv\", index=False)\n",
        "    val.to_csv(\"val.csv\", index=False)\n",
        "    test.to_csv(\"test.csv\", index=False)\n",
        "\n",
        "    # creating a dictionary of train and eval datasets\n",
        "    data_files = {\n",
        "        \"train\": \"/kaggle/working/train.csv\",\n",
        "        \"eval\": \"/kaggle/working/val.csv\",\n",
        "        \"test\": \"/kaggle/working/test.csv\"\n",
        "    }\n",
        "\n",
        "    # loading the datasets into a hugging face dataset object\n",
        "    cognitive_dataset = load_dataset(\"csv\", data_files=data_files)\n",
        "\n",
        "    # Tokenization function with padding set to the longest sequence length\n",
        "    def tokenize_function(examples):\n",
        "        if is_CNN == True:\n",
        "            return tokenizer(examples[\"text\"], return_tensors=\"pt\", max_length=300, padding='max_length', truncation=True, add_special_tokens=True)\n",
        "        return tokenizer(examples[\"text\"], truncation=True, add_special_tokens=True)\n",
        "\n",
        "    # Tokenizing the dataset\n",
        "    tokenized_datasets = cognitive_dataset.map(tokenize_function, batched=True)\n",
        "\n",
        "\n",
        "    return tokenized_datasets['train'], tokenized_datasets['eval'], tokenized_datasets['test']"
      ],
      "metadata": {
        "execution": {
          "iopub.status.busy": "2024-05-20T08:29:56.632318Z",
          "iopub.execute_input": "2024-05-20T08:29:56.632707Z",
          "iopub.status.idle": "2024-05-20T08:29:56.645198Z",
          "shell.execute_reply.started": "2024-05-20T08:29:56.632674Z",
          "shell.execute_reply": "2024-05-20T08:29:56.644411Z"
        },
        "trusted": true,
        "id": "Tl2owYmgM8Gg"
      },
      "execution_count": null,
      "outputs": []
    },
    {
      "cell_type": "markdown",
      "source": [
        "<a id=\"Training-Function\"></a>\n",
        "## Training Function\n",
        "\n",
        "[Back to Top](#Table-of-Contents)"
      ],
      "metadata": {
        "id": "BvrIIlWkM8Gi"
      }
    },
    {
      "cell_type": "code",
      "source": [
        "class CustomBERTClassifier(nn.Module):\n",
        "    def __init__(self, model_name, num_labels):\n",
        "        super(CustomBERTClassifier, self).__init__()\n",
        "        self.base_model = AutoModel.from_pretrained(model_name)\n",
        "        self.n_conv_1 = self.n_conv_2 = self.n_conv_3 = 512\n",
        "        self.k_conv_1 = 4\n",
        "        self.k_conv_2 = 3\n",
        "        self.k_conv_3 = 5\n",
        "        self.num_labels = num_labels\n",
        "\n",
        "        self.conv_1 = nn.Conv2d(in_channels=1, out_channels=self.n_conv_1, kernel_size=(self.k_conv_1, 768))\n",
        "        self.maxp_1 = nn.MaxPool2d(kernel_size=(297, 1))\n",
        "\n",
        "        self.conv_2 = nn.Conv2d(in_channels=1, out_channels=self.n_conv_2, kernel_size=(self.k_conv_2, 768))\n",
        "        self.maxp_2 = nn.MaxPool2d(kernel_size=(298, 1))\n",
        "\n",
        "        self.conv_3 = nn.Conv2d(in_channels=1, out_channels=self.n_conv_3, kernel_size=(self.k_conv_3, 768))\n",
        "        self.maxp_3 = nn.MaxPool2d(kernel_size=(296, 1))\n",
        "\n",
        "        self.flatten = nn.Flatten()\n",
        "        self.dropout = nn.Dropout(p=0.2)\n",
        "\n",
        "        self.fc = nn.Linear(self.n_conv_1 + self.n_conv_2 + self.n_conv_3, self.num_labels)\n",
        "\n",
        "    def forward(\n",
        "        self,\n",
        "        input_ids=None,\n",
        "        attention_mask=None,\n",
        "        token_type_ids=None,\n",
        "        position_ids=None,\n",
        "        head_mask=None,\n",
        "        inputs_embeds=None,\n",
        "        labels=None,\n",
        "    ):\n",
        "\n",
        "        outputs = self.base_model(\n",
        "            input_ids,\n",
        "            attention_mask=attention_mask,\n",
        "            token_type_ids=token_type_ids,\n",
        "            position_ids=position_ids,\n",
        "            head_mask=head_mask,\n",
        "            inputs_embeds=inputs_embeds,\n",
        "        )\n",
        "        x = outputs.last_hidden_state.unsqueeze(1)\n",
        "\n",
        "        conv1_out = F.relu(self.conv_1(x))\n",
        "        maxp1_out = self.maxp_1(conv1_out)\n",
        "\n",
        "        conv2_out = F.relu(self.conv_2(x))\n",
        "        maxp2_out = self.maxp_2(conv2_out)\n",
        "\n",
        "        conv3_out = F.relu(self.conv_3(x))\n",
        "        maxp3_out = self.maxp_3(conv3_out)\n",
        "\n",
        "        concat = torch.cat((maxp1_out, maxp2_out, maxp3_out), dim=1)\n",
        "\n",
        "        flatten_out = self.flatten(concat)\n",
        "        dropout_out = self.dropout(flatten_out)\n",
        "\n",
        "        logits = self.fc(dropout_out)\n",
        "\n",
        "        outputs = (logits,) + outputs[2:]\n",
        "\n",
        "        if labels is not None:\n",
        "            if self.num_labels == 1:\n",
        "                loss_fct = MSELoss()\n",
        "                loss = loss_fct(logits.view(-1), labels.view(-1))\n",
        "            else:\n",
        "                loss_fct = CrossEntropyLoss()\n",
        "                loss = loss_fct(logits.view(-1, self.num_labels), labels.view(-1))\n",
        "            outputs = (loss,) + outputs\n",
        "\n",
        "        return outputs"
      ],
      "metadata": {
        "execution": {
          "iopub.status.busy": "2024-05-20T08:29:56.648126Z",
          "iopub.execute_input": "2024-05-20T08:29:56.648381Z",
          "iopub.status.idle": "2024-05-20T08:29:56.666398Z",
          "shell.execute_reply.started": "2024-05-20T08:29:56.648352Z",
          "shell.execute_reply": "2024-05-20T08:29:56.665428Z"
        },
        "trusted": true,
        "id": "nJlV5KWlM8Gj"
      },
      "execution_count": null,
      "outputs": []
    },
    {
      "cell_type": "code",
      "source": [
        "def plot_cm(true_labels, predicted_labels):\n",
        "    cm = confusion_matrix(true_labels, predicted_labels)\n",
        "    plt.figure(figsize=(10, 8))\n",
        "    sns.heatmap(cm, annot=True, fmt='d', cmap='Blues', xticklabels=encoder.classes_, yticklabels=encoder.classes_)\n",
        "    plt.xlabel('Predicted')\n",
        "    plt.ylabel('True')\n",
        "    plt.title('Confusion Matrix')\n",
        "    plt.show()"
      ],
      "metadata": {
        "execution": {
          "iopub.status.busy": "2024-05-20T08:29:56.667533Z",
          "iopub.execute_input": "2024-05-20T08:29:56.667821Z",
          "iopub.status.idle": "2024-05-20T08:29:56.681025Z",
          "shell.execute_reply.started": "2024-05-20T08:29:56.667797Z",
          "shell.execute_reply": "2024-05-20T08:29:56.680154Z"
        },
        "trusted": true,
        "id": "0EtmeNCzM8Gm"
      },
      "execution_count": null,
      "outputs": []
    },
    {
      "cell_type": "code",
      "source": [
        "def train(train, val, test):\n",
        "    # loading the model and adding it to the GPU\n",
        "    model = CustomBERTClassifier(model_name=model_name, num_labels=classification)\n",
        "    model.to(device)\n",
        "    for param in model.base_model.parameters():\n",
        "        param.requires_grad = False\n",
        "\n",
        "    # Load metrics\n",
        "    f1_metric = evaluate.load(\"f1\")\n",
        "    precision_metric = evaluate.load(\"precision\")\n",
        "    recall_metric = evaluate.load(\"recall\")\n",
        "    accuracy_metric = evaluate.load(\"accuracy\")\n",
        "\n",
        "    def compute_metrics(eval_pred):\n",
        "        predictions, labels = eval_pred\n",
        "        predictions = F.softmax(torch.tensor(predictions), dim=1).numpy()\n",
        "        predictions = np.argmax(predictions, axis=1)\n",
        "\n",
        "        # Compute each metric\n",
        "        f1 = f1_metric.compute(predictions=predictions, references=labels, average='weighted')\n",
        "        precision = precision_metric.compute(predictions=predictions, references=labels, average='weighted', zero_division=0)\n",
        "        recall = recall_metric.compute(predictions=predictions, references=labels, average='weighted')\n",
        "        accuracy = accuracy_metric.compute(predictions=predictions, references=labels)\n",
        "\n",
        "        return {\n",
        "            \"f1\": f1['f1'],\n",
        "            \"precision\": precision['precision'],\n",
        "            \"recall\": recall['recall'],\n",
        "            \"accuracy\": accuracy['accuracy']\n",
        "        }\n",
        "\n",
        "\n",
        "    # learning rate was chosing after conducting a hyperparameter search\n",
        "    training_args = TrainingArguments(\n",
        "        output_dir=out_dir,\n",
        "        evaluation_strategy=\"epoch\",\n",
        "        save_strategy=\"epoch\",\n",
        "\n",
        "        num_train_epochs=epochs,\n",
        "\n",
        "        per_device_train_batch_size=train_batch_size,\n",
        "        per_device_eval_batch_size=eval_batch_size,\n",
        "#         learning_rate=lr,\n",
        "        load_best_model_at_end=True,\n",
        "    )\n",
        "\n",
        "\n",
        "    early_stopping = EarlyStoppingCallback(e_stop_epochs, e_stop_patience)\n",
        "\n",
        "    data_collator = DataCollatorWithPadding(tokenizer=tokenizer)\n",
        "\n",
        "    trainer = Trainer(\n",
        "#             model_init=model_init,\n",
        "            model=model,\n",
        "            args=training_args,\n",
        "            train_dataset=train,\n",
        "            eval_dataset=val,\n",
        "            tokenizer=tokenizer,\n",
        "#             data_collator=data_collator,\n",
        "            optimizers=(torch.optim.Adamax(model.parameters()), None),\n",
        "            compute_metrics=compute_metrics,\n",
        "            callbacks=[early_stopping]\n",
        "        )\n",
        "\n",
        "    print(\"Training Started!\")\n",
        "    trainer.train()\n",
        "\n",
        "    trainer.evaluate()\n",
        "\n",
        "    predictions = trainer.predict(test)\n",
        "\n",
        "    true_labels = test[\"label\"]\n",
        "    predicted_labels = predictions.predictions.argmax(axis=1)\n",
        "\n",
        "    y_true_original = encoder.inverse_transform(true_labels)\n",
        "    predictions_original = encoder.inverse_transform(predicted_labels)\n",
        "\n",
        "    print(\"Classification Report:\")\n",
        "    print(classification_report(y_true_original, predictions_original))\n",
        "\n",
        "    print(\"Confusion Matrix:\")\n",
        "    plot_cm(true_labels, predicted_labels)\n",
        "    del model, trainer"
      ],
      "metadata": {
        "execution": {
          "iopub.status.busy": "2024-05-20T08:29:56.682363Z",
          "iopub.execute_input": "2024-05-20T08:29:56.682720Z",
          "iopub.status.idle": "2024-05-20T08:29:56.697050Z",
          "shell.execute_reply.started": "2024-05-20T08:29:56.682689Z",
          "shell.execute_reply": "2024-05-20T08:29:56.696321Z"
        },
        "trusted": true,
        "id": "U68_W5YMM8Gn"
      },
      "execution_count": null,
      "outputs": []
    },
    {
      "cell_type": "markdown",
      "source": [
        "<a id=\"Training-and-Evaluation\"></a>\n",
        "## Training & Evaluation Results\n",
        "\n",
        "[Back to Top](#Table-of-Contents)"
      ],
      "metadata": {
        "id": "EEM3LZWLM8Gp"
      }
    },
    {
      "cell_type": "code",
      "source": [
        "df = pd.read_csv(dataset_path)\n",
        "\n",
        "columns = ['WE_Sub_BERT', 'SR_RI', 'BT_Opus_MT']\n",
        "\n",
        "dfs = [df]\n",
        "for r in range(0, 3 + 1):\n",
        "    combinations_list = []\n",
        "    combinations_list.extend(combinations(columns, r))\n",
        "    for comb in combinations_list:\n",
        "        cols_to_select = ['sentence']\n",
        "        cols_to_select.extend(list(comb))\n",
        "        new_df = df[cols_to_select]\n",
        "        display(new_df.head(0))\n",
        "        dfs.append(new_df)\n",
        "\n",
        "\n",
        "        train_set, eval_set, test_set = preprocess_data(df, classification, cols_to_select, val_pct, test_pct) ## return tokenized datasets with labels\n",
        "        train(train_set, eval_set, test_set)\n",
        "\n",
        "        torch.cuda.empty_cache()\n",
        "        !rm /kaggle/working/train.csv /kaggle/working/val.csv /kaggle/working/test.csv\n",
        "        !rm -rf /kaggle/working/wandb\n",
        "        !rm -rf /kaggle/working/{out_dir}\n"
      ],
      "metadata": {
        "execution": {
          "iopub.status.busy": "2024-05-20T08:29:56.698026Z",
          "iopub.execute_input": "2024-05-20T08:29:56.698304Z",
          "iopub.status.idle": "2024-05-20T17:40:40.441779Z",
          "shell.execute_reply.started": "2024-05-20T08:29:56.698281Z",
          "shell.execute_reply": "2024-05-20T17:40:40.440430Z"
        },
        "trusted": true,
        "colab": {
          "referenced_widgets": [
            "079247535b1f4c24a98139a18c53d229",
            "e48656c845f7494498ea7a49e684a869",
            "c3481196134e4c24a290b42e3e0dfb23",
            "409ca2d099d84daf9fb6ceae3d69b48d",
            "c628d81bdb374cdcb053c66437cb43cc",
            "bb75dae4efed49b3b212eeb42843d606",
            "8ee893b1faf64e18abd4729e0ed99d49",
            "0cb8ff1f34e741e78caf8b8619a17c9e",
            "6d133ef9bb3c48ac8c44457003c864fe",
            "c51036b3b60043a9b1702fa122d80738",
            "0af734955b244eafb4029513f7e4b7ec",
            "a5d2f5d706104790aba9c4548135f4f8",
            "d26997e688bf435287e042bc6020ee31",
            "5d7d52eb122c4ec5b12a3978a370b01a",
            "361daec202814ad8a54e3a47de37ca00",
            "113bfc7d3c954f0b99bdcd8dfb69b17e",
            "cec3a363fe264d2683c18ee71fdde162",
            "b090ca32b4764315a60483651c5ae93b",
            "9269740ed3674dbe9c7f051286345b8e",
            "849a4602b7e54f3aa585e6a86967ce22",
            "132897cb0449430484263cb8389f0650",
            "a2abd50215374ef38cbd771f6653ba7d",
            "ff2f3f159783463e87cb6ed13cd69123",
            "a95a1b5963ec49119424f5caf66b6c2a",
            "590fc3d386824b4ca13a1be856e1d970",
            "85d992976c514fe2b71834de27677a19",
            "3d9d2a5898384007be898ac45fd84aa3",
            "01cbdffe2d7143d4810b861a0619486e",
            "fc165e6e6812497da20df35cdf16a63f",
            "51bf8ae4afcc4de19661c452ba3b7e27",
            "684f49b12b5346dfa9bed8def2ac3d11",
            "2d1f9ddecf1841d682d0b2d2e8cde539",
            "7a106442044e4a60bc6b12402ed6afde",
            "e24666aac3d94f3f96593de40ff3b8a6",
            "ea2ac13ef1e04d968017e0c5a60db417",
            "4fc10ff3d0a94519b9f70e4454baa219",
            "2ea920b4b3194b169d630d97338fd35c",
            "77458b1209a74cd3a4372536e4a8660e",
            "c2826ea2714c4d85ae878de5a172a666",
            "c8d94dcb2271454480d600b8c69c15f3",
            "712776403afd4fb5ab5707423e358c3a",
            "f4a3757fdafc4fb5a9bebc004c565163",
            "9b85873dddde434492aa75a7a3840d96",
            "096d0ce6c15542d396abb539695bb2e7",
            "82d2e92441d74736821d6b159f8ea47f",
            "282d086667ec46c39ab4c945f5677ac0",
            "f127c22ca5ed401882f57f8478d9c983",
            "33d1ab0f7b234a18a5c52bb2bab28e15",
            "3c76e04a88cf42e79db3f77413911ebd",
            "dd34e1e468d34d388a3e88aa1f593337",
            "641258dc2297453da656af6710bd5509",
            "7996fa961b9d410da8cf6341305d60ef",
            "d240d9b3b0944f7a9944627283dd4f1d"
          ]
        },
        "id": "caa5h68iM8Gq",
        "outputId": "c5c0192c-be96-44cd-f96d-5bc510393bbe"
      },
      "execution_count": null,
      "outputs": [
        {
          "output_type": "display_data",
          "data": {
            "text/plain": "Empty DataFrame\nColumns: [sentence]\nIndex: []",
            "text/html": "<div>\n<style scoped>\n    .dataframe tbody tr th:only-of-type {\n        vertical-align: middle;\n    }\n\n    .dataframe tbody tr th {\n        vertical-align: top;\n    }\n\n    .dataframe thead th {\n        text-align: right;\n    }\n</style>\n<table border=\"1\" class=\"dataframe\">\n  <thead>\n    <tr style=\"text-align: right;\">\n      <th></th>\n      <th>sentence</th>\n    </tr>\n  </thead>\n  <tbody>\n  </tbody>\n</table>\n</div>"
          },
          "metadata": {}
        },
        {
          "output_type": "display_data",
          "data": {
            "text/plain": "Generating train split: 0 examples [00:00, ? examples/s]",
            "application/vnd.jupyter.widget-view+json": {
              "version_major": 2,
              "version_minor": 0,
              "model_id": "079247535b1f4c24a98139a18c53d229"
            }
          },
          "metadata": {}
        },
        {
          "output_type": "display_data",
          "data": {
            "text/plain": "Generating eval split: 0 examples [00:00, ? examples/s]",
            "application/vnd.jupyter.widget-view+json": {
              "version_major": 2,
              "version_minor": 0,
              "model_id": "e48656c845f7494498ea7a49e684a869"
            }
          },
          "metadata": {}
        },
        {
          "output_type": "display_data",
          "data": {
            "text/plain": "Generating test split: 0 examples [00:00, ? examples/s]",
            "application/vnd.jupyter.widget-view+json": {
              "version_major": 2,
              "version_minor": 0,
              "model_id": "c3481196134e4c24a290b42e3e0dfb23"
            }
          },
          "metadata": {}
        },
        {
          "output_type": "display_data",
          "data": {
            "text/plain": "Map:   0%|          | 0/24717 [00:00<?, ? examples/s]",
            "application/vnd.jupyter.widget-view+json": {
              "version_major": 2,
              "version_minor": 0,
              "model_id": "409ca2d099d84daf9fb6ceae3d69b48d"
            }
          },
          "metadata": {}
        },
        {
          "output_type": "display_data",
          "data": {
            "text/plain": "Map:   0%|          | 0/3531 [00:00<?, ? examples/s]",
            "application/vnd.jupyter.widget-view+json": {
              "version_major": 2,
              "version_minor": 0,
              "model_id": "c628d81bdb374cdcb053c66437cb43cc"
            }
          },
          "metadata": {}
        },
        {
          "output_type": "display_data",
          "data": {
            "text/plain": "Map:   0%|          | 0/7063 [00:00<?, ? examples/s]",
            "application/vnd.jupyter.widget-view+json": {
              "version_major": 2,
              "version_minor": 0,
              "model_id": "bb75dae4efed49b3b212eeb42843d606"
            }
          },
          "metadata": {}
        },
        {
          "output_type": "display_data",
          "data": {
            "text/plain": "model.safetensors:   0%|          | 0.00/440M [00:00<?, ?B/s]",
            "application/vnd.jupyter.widget-view+json": {
              "version_major": 2,
              "version_minor": 0,
              "model_id": "8ee893b1faf64e18abd4729e0ed99d49"
            }
          },
          "metadata": {}
        },
        {
          "output_type": "display_data",
          "data": {
            "text/plain": "Downloading builder script:   0%|          | 0.00/6.77k [00:00<?, ?B/s]",
            "application/vnd.jupyter.widget-view+json": {
              "version_major": 2,
              "version_minor": 0,
              "model_id": "0cb8ff1f34e741e78caf8b8619a17c9e"
            }
          },
          "metadata": {}
        },
        {
          "output_type": "display_data",
          "data": {
            "text/plain": "Downloading builder script:   0%|          | 0.00/7.55k [00:00<?, ?B/s]",
            "application/vnd.jupyter.widget-view+json": {
              "version_major": 2,
              "version_minor": 0,
              "model_id": "6d133ef9bb3c48ac8c44457003c864fe"
            }
          },
          "metadata": {}
        },
        {
          "output_type": "display_data",
          "data": {
            "text/plain": "Downloading builder script:   0%|          | 0.00/7.36k [00:00<?, ?B/s]",
            "application/vnd.jupyter.widget-view+json": {
              "version_major": 2,
              "version_minor": 0,
              "model_id": "c51036b3b60043a9b1702fa122d80738"
            }
          },
          "metadata": {}
        },
        {
          "output_type": "display_data",
          "data": {
            "text/plain": "Downloading builder script:   0%|          | 0.00/4.20k [00:00<?, ?B/s]",
            "application/vnd.jupyter.widget-view+json": {
              "version_major": 2,
              "version_minor": 0,
              "model_id": "0af734955b244eafb4029513f7e4b7ec"
            }
          },
          "metadata": {}
        },
        {
          "name": "stderr",
          "text": "/opt/conda/lib/python3.10/site-packages/accelerate/accelerator.py:436: FutureWarning: Passing the following arguments to `Accelerator` is deprecated and will be removed in version 1.0 of Accelerate: dict_keys(['dispatch_batches', 'split_batches', 'even_batches', 'use_seedable_sampler']). Please pass an `accelerate.DataLoaderConfiguration` instead: \ndataloader_config = DataLoaderConfiguration(dispatch_batches=None, split_batches=False, even_batches=True, use_seedable_sampler=True)\n  warnings.warn(\n\u001b[34m\u001b[1mwandb\u001b[0m: Currently logged in as: \u001b[33m18063\u001b[0m (\u001b[33mgpt2_aug\u001b[0m). Use \u001b[1m`wandb login --relogin`\u001b[0m to force relogin\n",
          "output_type": "stream"
        },
        {
          "name": "stdout",
          "text": "Training Started!\n",
          "output_type": "stream"
        },
        {
          "output_type": "display_data",
          "data": {
            "text/plain": "<IPython.core.display.HTML object>",
            "text/html": "wandb version 0.17.0 is available!  To upgrade, please run:\n $ pip install wandb --upgrade"
          },
          "metadata": {}
        },
        {
          "output_type": "display_data",
          "data": {
            "text/plain": "<IPython.core.display.HTML object>",
            "text/html": "Tracking run with wandb version 0.16.6"
          },
          "metadata": {}
        },
        {
          "output_type": "display_data",
          "data": {
            "text/plain": "<IPython.core.display.HTML object>",
            "text/html": "Run data is saved locally in <code>/kaggle/working/wandb/run-20240520_083019-7allf76q</code>"
          },
          "metadata": {}
        },
        {
          "output_type": "display_data",
          "data": {
            "text/plain": "<IPython.core.display.HTML object>",
            "text/html": "Syncing run <strong><a href='https://wandb.ai/gpt2_aug/huggingface/runs/7allf76q' target=\"_blank\">sweet-bush-224</a></strong> to <a href='https://wandb.ai/gpt2_aug/huggingface' target=\"_blank\">Weights & Biases</a> (<a href='https://wandb.me/run' target=\"_blank\">docs</a>)<br/>"
          },
          "metadata": {}
        },
        {
          "output_type": "display_data",
          "data": {
            "text/plain": "<IPython.core.display.HTML object>",
            "text/html": " View project at <a href='https://wandb.ai/gpt2_aug/huggingface' target=\"_blank\">https://wandb.ai/gpt2_aug/huggingface</a>"
          },
          "metadata": {}
        },
        {
          "output_type": "display_data",
          "data": {
            "text/plain": "<IPython.core.display.HTML object>",
            "text/html": " View run at <a href='https://wandb.ai/gpt2_aug/huggingface/runs/7allf76q' target=\"_blank\">https://wandb.ai/gpt2_aug/huggingface/runs/7allf76q</a>"
          },
          "metadata": {}
        },
        {
          "output_type": "display_data",
          "data": {
            "text/plain": "<IPython.core.display.HTML object>",
            "text/html": "\n    <div>\n      \n      <progress value='332' max='1660' style='width:300px; height:20px; vertical-align: middle;'></progress>\n      [ 332/1660 23:56 < 1:36:21, 0.23 it/s, Epoch 4/20]\n    </div>\n    <table border=\"1\" class=\"dataframe\">\n  <thead>\n <tr style=\"text-align: left;\">\n      <th>Epoch</th>\n      <th>Training Loss</th>\n      <th>Validation Loss</th>\n      <th>F1</th>\n      <th>Precision</th>\n      <th>Recall</th>\n      <th>Accuracy</th>\n    </tr>\n  </thead>\n  <tbody>\n    <tr>\n      <td>1</td>\n      <td>No log</td>\n      <td>0.486349</td>\n      <td>0.747897</td>\n      <td>0.749206</td>\n      <td>0.747097</td>\n      <td>0.747097</td>\n    </tr>\n    <tr>\n      <td>2</td>\n      <td>No log</td>\n      <td>0.463207</td>\n      <td>0.761000</td>\n      <td>0.767018</td>\n      <td>0.759275</td>\n      <td>0.759275</td>\n    </tr>\n    <tr>\n      <td>3</td>\n      <td>No log</td>\n      <td>0.454405</td>\n      <td>0.772352</td>\n      <td>0.772403</td>\n      <td>0.772302</td>\n      <td>0.772302</td>\n    </tr>\n    <tr>\n      <td>4</td>\n      <td>No log</td>\n      <td>0.456472</td>\n      <td>0.768590</td>\n      <td>0.778951</td>\n      <td>0.766638</td>\n      <td>0.766638</td>\n    </tr>\n  </tbody>\n</table><p>"
          },
          "metadata": {}
        },
        {
          "output_type": "display_data",
          "data": {
            "text/plain": "<IPython.core.display.HTML object>",
            "text/html": ""
          },
          "metadata": {}
        },
        {
          "name": "stdout",
          "text": "Classification Report:\n              precision    recall  f1-score   support\n\n   distorted       0.72      0.74      0.73      2877\n     neutral       0.82      0.80      0.81      4186\n\n    accuracy                           0.78      7063\n   macro avg       0.77      0.77      0.77      7063\nweighted avg       0.78      0.78      0.78      7063\n\nConfusion Matrix:\n",
          "output_type": "stream"
        },
        {
          "output_type": "display_data",
          "data": {
            "text/plain": "<Figure size 1000x800 with 2 Axes>",
            "image/png": "[encoded data removed]"
          },
          "metadata": {}
        },
        {
          "name": "stderr",
          "text": "huggingface/tokenizers: The current process just got forked, after parallelism has already been used. Disabling parallelism to avoid deadlocks...\nTo disable this warning, you can either:\n\t- Avoid using `tokenizers` before the fork if possible\n\t- Explicitly set the environment variable TOKENIZERS_PARALLELISM=(true | false)\nhuggingface/tokenizers: The current process just got forked, after parallelism has already been used. Disabling parallelism to avoid deadlocks...\nTo disable this warning, you can either:\n\t- Avoid using `tokenizers` before the fork if possible\n\t- Explicitly set the environment variable TOKENIZERS_PARALLELISM=(true | false)\nhuggingface/tokenizers: The current process just got forked, after parallelism has already been used. Disabling parallelism to avoid deadlocks...\nTo disable this warning, you can either:\n\t- Avoid using `tokenizers` before the fork if possible\n\t- Explicitly set the environment variable TOKENIZERS_PARALLELISM=(true | false)\n",
          "output_type": "stream"
        },
        {
          "output_type": "display_data",
          "data": {
            "text/plain": "Empty DataFrame\nColumns: [sentence, WE_Sub_BERT]\nIndex: []",
            "text/html": "<div>\n<style scoped>\n    .dataframe tbody tr th:only-of-type {\n        vertical-align: middle;\n    }\n\n    .dataframe tbody tr th {\n        vertical-align: top;\n    }\n\n    .dataframe thead th {\n        text-align: right;\n    }\n</style>\n<table border=\"1\" class=\"dataframe\">\n  <thead>\n    <tr style=\"text-align: right;\">\n      <th></th>\n      <th>sentence</th>\n      <th>WE_Sub_BERT</th>\n    </tr>\n  </thead>\n  <tbody>\n  </tbody>\n</table>\n</div>"
          },
          "metadata": {}
        },
        {
          "output_type": "display_data",
          "data": {
            "text/plain": "Generating train split: 0 examples [00:00, ? examples/s]",
            "application/vnd.jupyter.widget-view+json": {
              "version_major": 2,
              "version_minor": 0,
              "model_id": "a5d2f5d706104790aba9c4548135f4f8"
            }
          },
          "metadata": {}
        },
        {
          "output_type": "display_data",
          "data": {
            "text/plain": "Generating eval split: 0 examples [00:00, ? examples/s]",
            "application/vnd.jupyter.widget-view+json": {
              "version_major": 2,
              "version_minor": 0,
              "model_id": "d26997e688bf435287e042bc6020ee31"
            }
          },
          "metadata": {}
        },
        {
          "output_type": "display_data",
          "data": {
            "text/plain": "Generating test split: 0 examples [00:00, ? examples/s]",
            "application/vnd.jupyter.widget-view+json": {
              "version_major": 2,
              "version_minor": 0,
              "model_id": "5d7d52eb122c4ec5b12a3978a370b01a"
            }
          },
          "metadata": {}
        },
        {
          "output_type": "display_data",
          "data": {
            "text/plain": "Map:   0%|          | 0/49434 [00:00<?, ? examples/s]",
            "application/vnd.jupyter.widget-view+json": {
              "version_major": 2,
              "version_minor": 0,
              "model_id": "361daec202814ad8a54e3a47de37ca00"
            }
          },
          "metadata": {}
        },
        {
          "output_type": "display_data",
          "data": {
            "text/plain": "Map:   0%|          | 0/3531 [00:00<?, ? examples/s]",
            "application/vnd.jupyter.widget-view+json": {
              "version_major": 2,
              "version_minor": 0,
              "model_id": "113bfc7d3c954f0b99bdcd8dfb69b17e"
            }
          },
          "metadata": {}
        },
        {
          "output_type": "display_data",
          "data": {
            "text/plain": "Map:   0%|          | 0/7063 [00:00<?, ? examples/s]",
            "application/vnd.jupyter.widget-view+json": {
              "version_major": 2,
              "version_minor": 0,
              "model_id": "cec3a363fe264d2683c18ee71fdde162"
            }
          },
          "metadata": {}
        },
        {
          "name": "stderr",
          "text": "/opt/conda/lib/python3.10/site-packages/accelerate/accelerator.py:436: FutureWarning: Passing the following arguments to `Accelerator` is deprecated and will be removed in version 1.0 of Accelerate: dict_keys(['dispatch_batches', 'split_batches', 'even_batches', 'use_seedable_sampler']). Please pass an `accelerate.DataLoaderConfiguration` instead: \ndataloader_config = DataLoaderConfiguration(dispatch_batches=None, split_batches=False, even_batches=True, use_seedable_sampler=True)\n  warnings.warn(\n",
          "output_type": "stream"
        },
        {
          "name": "stdout",
          "text": "Training Started!\n",
          "output_type": "stream"
        },
        {
          "output_type": "display_data",
          "data": {
            "text/plain": "<IPython.core.display.HTML object>",
            "text/html": "\n    <div>\n      \n      <progress value='660' max='3300' style='width:300px; height:20px; vertical-align: middle;'></progress>\n      [ 660/3300 45:09 < 3:01:11, 0.24 it/s, Epoch 4/20]\n    </div>\n    <table border=\"1\" class=\"dataframe\">\n  <thead>\n <tr style=\"text-align: left;\">\n      <th>Epoch</th>\n      <th>Training Loss</th>\n      <th>Validation Loss</th>\n      <th>F1</th>\n      <th>Precision</th>\n      <th>Recall</th>\n      <th>Accuracy</th>\n    </tr>\n  </thead>\n  <tbody>\n    <tr>\n      <td>1</td>\n      <td>No log</td>\n      <td>0.493380</td>\n      <td>0.738514</td>\n      <td>0.748219</td>\n      <td>0.736335</td>\n      <td>0.736335</td>\n    </tr>\n    <tr>\n      <td>2</td>\n      <td>No log</td>\n      <td>0.472203</td>\n      <td>0.748976</td>\n      <td>0.751966</td>\n      <td>0.753611</td>\n      <td>0.753611</td>\n    </tr>\n    <tr>\n      <td>3</td>\n      <td>No log</td>\n      <td>0.466696</td>\n      <td>0.761874</td>\n      <td>0.761572</td>\n      <td>0.763240</td>\n      <td>0.763240</td>\n    </tr>\n    <tr>\n      <td>4</td>\n      <td>0.582400</td>\n      <td>0.471896</td>\n      <td>0.757651</td>\n      <td>0.760381</td>\n      <td>0.761824</td>\n      <td>0.761824</td>\n    </tr>\n  </tbody>\n</table><p>"
          },
          "metadata": {}
        },
        {
          "output_type": "display_data",
          "data": {
            "text/plain": "<IPython.core.display.HTML object>",
            "text/html": ""
          },
          "metadata": {}
        },
        {
          "name": "stdout",
          "text": "Classification Report:\n              precision    recall  f1-score   support\n\n   distorted       0.74      0.70      0.72      2877\n     neutral       0.80      0.83      0.82      4186\n\n    accuracy                           0.78      7063\n   macro avg       0.77      0.77      0.77      7063\nweighted avg       0.78      0.78      0.78      7063\n\nConfusion Matrix:\n",
          "output_type": "stream"
        },
        {
          "output_type": "display_data",
          "data": {
            "text/plain": "<Figure size 1000x800 with 2 Axes>",
            "image/png": "[encoded data removed]"
          },
          "metadata": {}
        },
        {
          "name": "stderr",
          "text": "huggingface/tokenizers: The current process just got forked, after parallelism has already been used. Disabling parallelism to avoid deadlocks...\nTo disable this warning, you can either:\n\t- Avoid using `tokenizers` before the fork if possible\n\t- Explicitly set the environment variable TOKENIZERS_PARALLELISM=(true | false)\nhuggingface/tokenizers: The current process just got forked, after parallelism has already been used. Disabling parallelism to avoid deadlocks...\nTo disable this warning, you can either:\n\t- Avoid using `tokenizers` before the fork if possible\n\t- Explicitly set the environment variable TOKENIZERS_PARALLELISM=(true | false)\nhuggingface/tokenizers: The current process just got forked, after parallelism has already been used. Disabling parallelism to avoid deadlocks...\nTo disable this warning, you can either:\n\t- Avoid using `tokenizers` before the fork if possible\n\t- Explicitly set the environment variable TOKENIZERS_PARALLELISM=(true | false)\n",
          "output_type": "stream"
        },
        {
          "output_type": "display_data",
          "data": {
            "text/plain": "Empty DataFrame\nColumns: [sentence, SR_RI]\nIndex: []",
            "text/html": "<div>\n<style scoped>\n    .dataframe tbody tr th:only-of-type {\n        vertical-align: middle;\n    }\n\n    .dataframe tbody tr th {\n        vertical-align: top;\n    }\n\n    .dataframe thead th {\n        text-align: right;\n    }\n</style>\n<table border=\"1\" class=\"dataframe\">\n  <thead>\n    <tr style=\"text-align: right;\">\n      <th></th>\n      <th>sentence</th>\n      <th>SR_RI</th>\n    </tr>\n  </thead>\n  <tbody>\n  </tbody>\n</table>\n</div>"
          },
          "metadata": {}
        },
        {
          "output_type": "display_data",
          "data": {
            "text/plain": "Generating train split: 0 examples [00:00, ? examples/s]",
            "application/vnd.jupyter.widget-view+json": {
              "version_major": 2,
              "version_minor": 0,
              "model_id": "b090ca32b4764315a60483651c5ae93b"
            }
          },
          "metadata": {}
        },
        {
          "output_type": "display_data",
          "data": {
            "text/plain": "Generating eval split: 0 examples [00:00, ? examples/s]",
            "application/vnd.jupyter.widget-view+json": {
              "version_major": 2,
              "version_minor": 0,
              "model_id": "9269740ed3674dbe9c7f051286345b8e"
            }
          },
          "metadata": {}
        },
        {
          "output_type": "display_data",
          "data": {
            "text/plain": "Generating test split: 0 examples [00:00, ? examples/s]",
            "application/vnd.jupyter.widget-view+json": {
              "version_major": 2,
              "version_minor": 0,
              "model_id": "849a4602b7e54f3aa585e6a86967ce22"
            }
          },
          "metadata": {}
        },
        {
          "output_type": "display_data",
          "data": {
            "text/plain": "Map:   0%|          | 0/74149 [00:00<?, ? examples/s]",
            "application/vnd.jupyter.widget-view+json": {
              "version_major": 2,
              "version_minor": 0,
              "model_id": "132897cb0449430484263cb8389f0650"
            }
          },
          "metadata": {}
        },
        {
          "output_type": "display_data",
          "data": {
            "text/plain": "Map:   0%|          | 0/3531 [00:00<?, ? examples/s]",
            "application/vnd.jupyter.widget-view+json": {
              "version_major": 2,
              "version_minor": 0,
              "model_id": "a2abd50215374ef38cbd771f6653ba7d"
            }
          },
          "metadata": {}
        },
        {
          "output_type": "display_data",
          "data": {
            "text/plain": "Map:   0%|          | 0/7063 [00:00<?, ? examples/s]",
            "application/vnd.jupyter.widget-view+json": {
              "version_major": 2,
              "version_minor": 0,
              "model_id": "ff2f3f159783463e87cb6ed13cd69123"
            }
          },
          "metadata": {}
        },
        {
          "name": "stderr",
          "text": "/opt/conda/lib/python3.10/site-packages/accelerate/accelerator.py:436: FutureWarning: Passing the following arguments to `Accelerator` is deprecated and will be removed in version 1.0 of Accelerate: dict_keys(['dispatch_batches', 'split_batches', 'even_batches', 'use_seedable_sampler']). Please pass an `accelerate.DataLoaderConfiguration` instead: \ndataloader_config = DataLoaderConfiguration(dispatch_batches=None, split_batches=False, even_batches=True, use_seedable_sampler=True)\n  warnings.warn(\n",
          "output_type": "stream"
        },
        {
          "name": "stdout",
          "text": "Training Started!\n",
          "output_type": "stream"
        },
        {
          "output_type": "display_data",
          "data": {
            "text/plain": "<IPython.core.display.HTML object>",
            "text/html": "\n    <div>\n      \n      <progress value='1240' max='4960' style='width:300px; height:20px; vertical-align: middle;'></progress>\n      [1240/4960 1:22:57 < 4:09:17, 0.25 it/s, Epoch 5/20]\n    </div>\n    <table border=\"1\" class=\"dataframe\">\n  <thead>\n <tr style=\"text-align: left;\">\n      <th>Epoch</th>\n      <th>Training Loss</th>\n      <th>Validation Loss</th>\n      <th>F1</th>\n      <th>Precision</th>\n      <th>Recall</th>\n      <th>Accuracy</th>\n    </tr>\n  </thead>\n  <tbody>\n    <tr>\n      <td>1</td>\n      <td>No log</td>\n      <td>0.472553</td>\n      <td>0.755699</td>\n      <td>0.755431</td>\n      <td>0.757293</td>\n      <td>0.757293</td>\n    </tr>\n    <tr>\n      <td>2</td>\n      <td>No log</td>\n      <td>0.459737</td>\n      <td>0.763892</td>\n      <td>0.770748</td>\n      <td>0.762107</td>\n      <td>0.762107</td>\n    </tr>\n    <tr>\n      <td>3</td>\n      <td>0.572500</td>\n      <td>0.447959</td>\n      <td>0.773185</td>\n      <td>0.774135</td>\n      <td>0.772586</td>\n      <td>0.772586</td>\n    </tr>\n    <tr>\n      <td>4</td>\n      <td>0.572500</td>\n      <td>0.459816</td>\n      <td>0.765383</td>\n      <td>0.765008</td>\n      <td>0.766072</td>\n      <td>0.766072</td>\n    </tr>\n    <tr>\n      <td>5</td>\n      <td>0.442700</td>\n      <td>0.472569</td>\n      <td>0.767850</td>\n      <td>0.768883</td>\n      <td>0.767205</td>\n      <td>0.767205</td>\n    </tr>\n  </tbody>\n</table><p>"
          },
          "metadata": {}
        },
        {
          "output_type": "display_data",
          "data": {
            "text/plain": "<IPython.core.display.HTML object>",
            "text/html": ""
          },
          "metadata": {}
        },
        {
          "name": "stdout",
          "text": "Classification Report:\n              precision    recall  f1-score   support\n\n   distorted       0.72      0.76      0.74      2877\n     neutral       0.83      0.80      0.81      4186\n\n    accuracy                           0.78      7063\n   macro avg       0.78      0.78      0.78      7063\nweighted avg       0.79      0.78      0.78      7063\n\nConfusion Matrix:\n",
          "output_type": "stream"
        },
        {
          "output_type": "display_data",
          "data": {
            "text/plain": "<Figure size 1000x800 with 2 Axes>",
            "image/png": "[encoded data removed]"
          },
          "metadata": {}
        },
        {
          "name": "stderr",
          "text": "huggingface/tokenizers: The current process just got forked, after parallelism has already been used. Disabling parallelism to avoid deadlocks...\nTo disable this warning, you can either:\n\t- Avoid using `tokenizers` before the fork if possible\n\t- Explicitly set the environment variable TOKENIZERS_PARALLELISM=(true | false)\nhuggingface/tokenizers: The current process just got forked, after parallelism has already been used. Disabling parallelism to avoid deadlocks...\nTo disable this warning, you can either:\n\t- Avoid using `tokenizers` before the fork if possible\n\t- Explicitly set the environment variable TOKENIZERS_PARALLELISM=(true | false)\nhuggingface/tokenizers: The current process just got forked, after parallelism has already been used. Disabling parallelism to avoid deadlocks...\nTo disable this warning, you can either:\n\t- Avoid using `tokenizers` before the fork if possible\n\t- Explicitly set the environment variable TOKENIZERS_PARALLELISM=(true | false)\n",
          "output_type": "stream"
        },
        {
          "output_type": "display_data",
          "data": {
            "text/plain": "Empty DataFrame\nColumns: [sentence, BT_Opus_MT]\nIndex: []",
            "text/html": "<div>\n<style scoped>\n    .dataframe tbody tr th:only-of-type {\n        vertical-align: middle;\n    }\n\n    .dataframe tbody tr th {\n        vertical-align: top;\n    }\n\n    .dataframe thead th {\n        text-align: right;\n    }\n</style>\n<table border=\"1\" class=\"dataframe\">\n  <thead>\n    <tr style=\"text-align: right;\">\n      <th></th>\n      <th>sentence</th>\n      <th>BT_Opus_MT</th>\n    </tr>\n  </thead>\n  <tbody>\n  </tbody>\n</table>\n</div>"
          },
          "metadata": {}
        },
        {
          "output_type": "display_data",
          "data": {
            "text/plain": "Generating train split: 0 examples [00:00, ? examples/s]",
            "application/vnd.jupyter.widget-view+json": {
              "version_major": 2,
              "version_minor": 0,
              "model_id": "a95a1b5963ec49119424f5caf66b6c2a"
            }
          },
          "metadata": {}
        },
        {
          "output_type": "display_data",
          "data": {
            "text/plain": "Generating eval split: 0 examples [00:00, ? examples/s]",
            "application/vnd.jupyter.widget-view+json": {
              "version_major": 2,
              "version_minor": 0,
              "model_id": "590fc3d386824b4ca13a1be856e1d970"
            }
          },
          "metadata": {}
        },
        {
          "output_type": "display_data",
          "data": {
            "text/plain": "Generating test split: 0 examples [00:00, ? examples/s]",
            "application/vnd.jupyter.widget-view+json": {
              "version_major": 2,
              "version_minor": 0,
              "model_id": "85d992976c514fe2b71834de27677a19"
            }
          },
          "metadata": {}
        },
        {
          "output_type": "display_data",
          "data": {
            "text/plain": "Map:   0%|          | 0/49434 [00:00<?, ? examples/s]",
            "application/vnd.jupyter.widget-view+json": {
              "version_major": 2,
              "version_minor": 0,
              "model_id": "3d9d2a5898384007be898ac45fd84aa3"
            }
          },
          "metadata": {}
        },
        {
          "output_type": "display_data",
          "data": {
            "text/plain": "Map:   0%|          | 0/3531 [00:00<?, ? examples/s]",
            "application/vnd.jupyter.widget-view+json": {
              "version_major": 2,
              "version_minor": 0,
              "model_id": "01cbdffe2d7143d4810b861a0619486e"
            }
          },
          "metadata": {}
        },
        {
          "output_type": "display_data",
          "data": {
            "text/plain": "Map:   0%|          | 0/7063 [00:00<?, ? examples/s]",
            "application/vnd.jupyter.widget-view+json": {
              "version_major": 2,
              "version_minor": 0,
              "model_id": "fc165e6e6812497da20df35cdf16a63f"
            }
          },
          "metadata": {}
        },
        {
          "name": "stderr",
          "text": "/opt/conda/lib/python3.10/site-packages/accelerate/accelerator.py:436: FutureWarning: Passing the following arguments to `Accelerator` is deprecated and will be removed in version 1.0 of Accelerate: dict_keys(['dispatch_batches', 'split_batches', 'even_batches', 'use_seedable_sampler']). Please pass an `accelerate.DataLoaderConfiguration` instead: \ndataloader_config = DataLoaderConfiguration(dispatch_batches=None, split_batches=False, even_batches=True, use_seedable_sampler=True)\n  warnings.warn(\n",
          "output_type": "stream"
        },
        {
          "name": "stdout",
          "text": "Training Started!\n",
          "output_type": "stream"
        },
        {
          "output_type": "display_data",
          "data": {
            "text/plain": "<IPython.core.display.HTML object>",
            "text/html": "\n    <div>\n      \n      <progress value='825' max='3300' style='width:300px; height:20px; vertical-align: middle;'></progress>\n      [ 825/3300 56:20 < 2:49:25, 0.24 it/s, Epoch 5/20]\n    </div>\n    <table border=\"1\" class=\"dataframe\">\n  <thead>\n <tr style=\"text-align: left;\">\n      <th>Epoch</th>\n      <th>Training Loss</th>\n      <th>Validation Loss</th>\n      <th>F1</th>\n      <th>Precision</th>\n      <th>Recall</th>\n      <th>Accuracy</th>\n    </tr>\n  </thead>\n  <tbody>\n    <tr>\n      <td>1</td>\n      <td>No log</td>\n      <td>0.477109</td>\n      <td>0.754288</td>\n      <td>0.765206</td>\n      <td>0.752195</td>\n      <td>0.752195</td>\n    </tr>\n    <tr>\n      <td>2</td>\n      <td>No log</td>\n      <td>0.459322</td>\n      <td>0.764008</td>\n      <td>0.772505</td>\n      <td>0.770603</td>\n      <td>0.770603</td>\n    </tr>\n    <tr>\n      <td>3</td>\n      <td>No log</td>\n      <td>0.445500</td>\n      <td>0.772837</td>\n      <td>0.774354</td>\n      <td>0.772019</td>\n      <td>0.772019</td>\n    </tr>\n    <tr>\n      <td>4</td>\n      <td>0.517700</td>\n      <td>0.461011</td>\n      <td>0.768176</td>\n      <td>0.772595</td>\n      <td>0.772869</td>\n      <td>0.772869</td>\n    </tr>\n    <tr>\n      <td>5</td>\n      <td>0.517700</td>\n      <td>0.474766</td>\n      <td>0.775855</td>\n      <td>0.777485</td>\n      <td>0.778816</td>\n      <td>0.778816</td>\n    </tr>\n  </tbody>\n</table><p>"
          },
          "metadata": {}
        },
        {
          "output_type": "display_data",
          "data": {
            "text/plain": "<IPython.core.display.HTML object>",
            "text/html": ""
          },
          "metadata": {}
        },
        {
          "name": "stdout",
          "text": "Classification Report:\n              precision    recall  f1-score   support\n\n   distorted       0.72      0.77      0.74      2877\n     neutral       0.83      0.79      0.81      4186\n\n    accuracy                           0.78      7063\n   macro avg       0.78      0.78      0.78      7063\nweighted avg       0.79      0.78      0.78      7063\n\nConfusion Matrix:\n",
          "output_type": "stream"
        },
        {
          "output_type": "display_data",
          "data": {
            "text/plain": "<Figure size 1000x800 with 2 Axes>",
            "image/png": "[encoded data removed]"
          },
          "metadata": {}
        },
        {
          "name": "stderr",
          "text": "huggingface/tokenizers: The current process just got forked, after parallelism has already been used. Disabling parallelism to avoid deadlocks...\nTo disable this warning, you can either:\n\t- Avoid using `tokenizers` before the fork if possible\n\t- Explicitly set the environment variable TOKENIZERS_PARALLELISM=(true | false)\nhuggingface/tokenizers: The current process just got forked, after parallelism has already been used. Disabling parallelism to avoid deadlocks...\nTo disable this warning, you can either:\n\t- Avoid using `tokenizers` before the fork if possible\n\t- Explicitly set the environment variable TOKENIZERS_PARALLELISM=(true | false)\nhuggingface/tokenizers: The current process just got forked, after parallelism has already been used. Disabling parallelism to avoid deadlocks...\nTo disable this warning, you can either:\n\t- Avoid using `tokenizers` before the fork if possible\n\t- Explicitly set the environment variable TOKENIZERS_PARALLELISM=(true | false)\n",
          "output_type": "stream"
        },
        {
          "output_type": "display_data",
          "data": {
            "text/plain": "Empty DataFrame\nColumns: [sentence, WE_Sub_BERT, SR_RI]\nIndex: []",
            "text/html": "<div>\n<style scoped>\n    .dataframe tbody tr th:only-of-type {\n        vertical-align: middle;\n    }\n\n    .dataframe tbody tr th {\n        vertical-align: top;\n    }\n\n    .dataframe thead th {\n        text-align: right;\n    }\n</style>\n<table border=\"1\" class=\"dataframe\">\n  <thead>\n    <tr style=\"text-align: right;\">\n      <th></th>\n      <th>sentence</th>\n      <th>WE_Sub_BERT</th>\n      <th>SR_RI</th>\n    </tr>\n  </thead>\n  <tbody>\n  </tbody>\n</table>\n</div>"
          },
          "metadata": {}
        },
        {
          "output_type": "display_data",
          "data": {
            "text/plain": "Generating train split: 0 examples [00:00, ? examples/s]",
            "application/vnd.jupyter.widget-view+json": {
              "version_major": 2,
              "version_minor": 0,
              "model_id": "51bf8ae4afcc4de19661c452ba3b7e27"
            }
          },
          "metadata": {}
        },
        {
          "output_type": "display_data",
          "data": {
            "text/plain": "Generating eval split: 0 examples [00:00, ? examples/s]",
            "application/vnd.jupyter.widget-view+json": {
              "version_major": 2,
              "version_minor": 0,
              "model_id": "684f49b12b5346dfa9bed8def2ac3d11"
            }
          },
          "metadata": {}
        },
        {
          "output_type": "display_data",
          "data": {
            "text/plain": "Generating test split: 0 examples [00:00, ? examples/s]",
            "application/vnd.jupyter.widget-view+json": {
              "version_major": 2,
              "version_minor": 0,
              "model_id": "2d1f9ddecf1841d682d0b2d2e8cde539"
            }
          },
          "metadata": {}
        },
        {
          "output_type": "display_data",
          "data": {
            "text/plain": "Map:   0%|          | 0/98866 [00:00<?, ? examples/s]",
            "application/vnd.jupyter.widget-view+json": {
              "version_major": 2,
              "version_minor": 0,
              "model_id": "7a106442044e4a60bc6b12402ed6afde"
            }
          },
          "metadata": {}
        },
        {
          "output_type": "display_data",
          "data": {
            "text/plain": "Map:   0%|          | 0/3531 [00:00<?, ? examples/s]",
            "application/vnd.jupyter.widget-view+json": {
              "version_major": 2,
              "version_minor": 0,
              "model_id": "e24666aac3d94f3f96593de40ff3b8a6"
            }
          },
          "metadata": {}
        },
        {
          "output_type": "display_data",
          "data": {
            "text/plain": "Map:   0%|          | 0/7063 [00:00<?, ? examples/s]",
            "application/vnd.jupyter.widget-view+json": {
              "version_major": 2,
              "version_minor": 0,
              "model_id": "ea2ac13ef1e04d968017e0c5a60db417"
            }
          },
          "metadata": {}
        },
        {
          "name": "stderr",
          "text": "/opt/conda/lib/python3.10/site-packages/accelerate/accelerator.py:436: FutureWarning: Passing the following arguments to `Accelerator` is deprecated and will be removed in version 1.0 of Accelerate: dict_keys(['dispatch_batches', 'split_batches', 'even_batches', 'use_seedable_sampler']). Please pass an `accelerate.DataLoaderConfiguration` instead: \ndataloader_config = DataLoaderConfiguration(dispatch_batches=None, split_batches=False, even_batches=True, use_seedable_sampler=True)\n  warnings.warn(\n",
          "output_type": "stream"
        },
        {
          "name": "stdout",
          "text": "Training Started!\n",
          "output_type": "stream"
        },
        {
          "output_type": "display_data",
          "data": {
            "text/plain": "<IPython.core.display.HTML object>",
            "text/html": "\n    <div>\n      \n      <progress value='990' max='6600' style='width:300px; height:20px; vertical-align: middle;'></progress>\n      [ 990/6600 1:05:41 < 6:13:01, 0.25 it/s, Epoch 3/20]\n    </div>\n    <table border=\"1\" class=\"dataframe\">\n  <thead>\n <tr style=\"text-align: left;\">\n      <th>Epoch</th>\n      <th>Training Loss</th>\n      <th>Validation Loss</th>\n      <th>F1</th>\n      <th>Precision</th>\n      <th>Recall</th>\n      <th>Accuracy</th>\n    </tr>\n  </thead>\n  <tbody>\n    <tr>\n      <td>1</td>\n      <td>No log</td>\n      <td>0.476348</td>\n      <td>0.754039</td>\n      <td>0.760741</td>\n      <td>0.752195</td>\n      <td>0.752195</td>\n    </tr>\n    <tr>\n      <td>2</td>\n      <td>0.597900</td>\n      <td>0.468077</td>\n      <td>0.747836</td>\n      <td>0.755817</td>\n      <td>0.755027</td>\n      <td>0.755027</td>\n    </tr>\n    <tr>\n      <td>3</td>\n      <td>0.597900</td>\n      <td>0.462917</td>\n      <td>0.768760</td>\n      <td>0.768403</td>\n      <td>0.769754</td>\n      <td>0.769754</td>\n    </tr>\n  </tbody>\n</table><p>"
          },
          "metadata": {}
        },
        {
          "output_type": "display_data",
          "data": {
            "text/plain": "<IPython.core.display.HTML object>",
            "text/html": ""
          },
          "metadata": {}
        },
        {
          "name": "stdout",
          "text": "Classification Report:\n              precision    recall  f1-score   support\n\n   distorted       0.74      0.71      0.73      2877\n     neutral       0.81      0.83      0.82      4186\n\n    accuracy                           0.78      7063\n   macro avg       0.78      0.77      0.77      7063\nweighted avg       0.78      0.78      0.78      7063\n\nConfusion Matrix:\n",
          "output_type": "stream"
        },
        {
          "output_type": "display_data",
          "data": {
            "text/plain": "<Figure size 1000x800 with 2 Axes>",
            "image/png": "[encoded data removed]"
          },
          "metadata": {}
        },
        {
          "name": "stderr",
          "text": "huggingface/tokenizers: The current process just got forked, after parallelism has already been used. Disabling parallelism to avoid deadlocks...\nTo disable this warning, you can either:\n\t- Avoid using `tokenizers` before the fork if possible\n\t- Explicitly set the environment variable TOKENIZERS_PARALLELISM=(true | false)\nhuggingface/tokenizers: The current process just got forked, after parallelism has already been used. Disabling parallelism to avoid deadlocks...\nTo disable this warning, you can either:\n\t- Avoid using `tokenizers` before the fork if possible\n\t- Explicitly set the environment variable TOKENIZERS_PARALLELISM=(true | false)\nhuggingface/tokenizers: The current process just got forked, after parallelism has already been used. Disabling parallelism to avoid deadlocks...\nTo disable this warning, you can either:\n\t- Avoid using `tokenizers` before the fork if possible\n\t- Explicitly set the environment variable TOKENIZERS_PARALLELISM=(true | false)\n",
          "output_type": "stream"
        },
        {
          "output_type": "display_data",
          "data": {
            "text/plain": "Empty DataFrame\nColumns: [sentence, WE_Sub_BERT, BT_Opus_MT]\nIndex: []",
            "text/html": "<div>\n<style scoped>\n    .dataframe tbody tr th:only-of-type {\n        vertical-align: middle;\n    }\n\n    .dataframe tbody tr th {\n        vertical-align: top;\n    }\n\n    .dataframe thead th {\n        text-align: right;\n    }\n</style>\n<table border=\"1\" class=\"dataframe\">\n  <thead>\n    <tr style=\"text-align: right;\">\n      <th></th>\n      <th>sentence</th>\n      <th>WE_Sub_BERT</th>\n      <th>BT_Opus_MT</th>\n    </tr>\n  </thead>\n  <tbody>\n  </tbody>\n</table>\n</div>"
          },
          "metadata": {}
        },
        {
          "output_type": "display_data",
          "data": {
            "text/plain": "Generating train split: 0 examples [00:00, ? examples/s]",
            "application/vnd.jupyter.widget-view+json": {
              "version_major": 2,
              "version_minor": 0,
              "model_id": "4fc10ff3d0a94519b9f70e4454baa219"
            }
          },
          "metadata": {}
        },
        {
          "output_type": "display_data",
          "data": {
            "text/plain": "Generating eval split: 0 examples [00:00, ? examples/s]",
            "application/vnd.jupyter.widget-view+json": {
              "version_major": 2,
              "version_minor": 0,
              "model_id": "2ea920b4b3194b169d630d97338fd35c"
            }
          },
          "metadata": {}
        },
        {
          "output_type": "display_data",
          "data": {
            "text/plain": "Generating test split: 0 examples [00:00, ? examples/s]",
            "application/vnd.jupyter.widget-view+json": {
              "version_major": 2,
              "version_minor": 0,
              "model_id": "77458b1209a74cd3a4372536e4a8660e"
            }
          },
          "metadata": {}
        },
        {
          "output_type": "display_data",
          "data": {
            "text/plain": "Map:   0%|          | 0/74151 [00:00<?, ? examples/s]",
            "application/vnd.jupyter.widget-view+json": {
              "version_major": 2,
              "version_minor": 0,
              "model_id": "c2826ea2714c4d85ae878de5a172a666"
            }
          },
          "metadata": {}
        },
        {
          "output_type": "display_data",
          "data": {
            "text/plain": "Map:   0%|          | 0/3531 [00:00<?, ? examples/s]",
            "application/vnd.jupyter.widget-view+json": {
              "version_major": 2,
              "version_minor": 0,
              "model_id": "c8d94dcb2271454480d600b8c69c15f3"
            }
          },
          "metadata": {}
        },
        {
          "output_type": "display_data",
          "data": {
            "text/plain": "Map:   0%|          | 0/7063 [00:00<?, ? examples/s]",
            "application/vnd.jupyter.widget-view+json": {
              "version_major": 2,
              "version_minor": 0,
              "model_id": "712776403afd4fb5ab5707423e358c3a"
            }
          },
          "metadata": {}
        },
        {
          "name": "stderr",
          "text": "/opt/conda/lib/python3.10/site-packages/accelerate/accelerator.py:436: FutureWarning: Passing the following arguments to `Accelerator` is deprecated and will be removed in version 1.0 of Accelerate: dict_keys(['dispatch_batches', 'split_batches', 'even_batches', 'use_seedable_sampler']). Please pass an `accelerate.DataLoaderConfiguration` instead: \ndataloader_config = DataLoaderConfiguration(dispatch_batches=None, split_batches=False, even_batches=True, use_seedable_sampler=True)\n  warnings.warn(\n",
          "output_type": "stream"
        },
        {
          "name": "stdout",
          "text": "Training Started!\n",
          "output_type": "stream"
        },
        {
          "output_type": "display_data",
          "data": {
            "text/plain": "<IPython.core.display.HTML object>",
            "text/html": "\n    <div>\n      \n      <progress value='1240' max='4960' style='width:300px; height:20px; vertical-align: middle;'></progress>\n      [1240/4960 1:23:03 < 4:09:33, 0.25 it/s, Epoch 5/20]\n    </div>\n    <table border=\"1\" class=\"dataframe\">\n  <thead>\n <tr style=\"text-align: left;\">\n      <th>Epoch</th>\n      <th>Training Loss</th>\n      <th>Validation Loss</th>\n      <th>F1</th>\n      <th>Precision</th>\n      <th>Recall</th>\n      <th>Accuracy</th>\n    </tr>\n  </thead>\n  <tbody>\n    <tr>\n      <td>1</td>\n      <td>No log</td>\n      <td>0.472058</td>\n      <td>0.757359</td>\n      <td>0.759191</td>\n      <td>0.760974</td>\n      <td>0.760974</td>\n    </tr>\n    <tr>\n      <td>2</td>\n      <td>No log</td>\n      <td>0.502506</td>\n      <td>0.731393</td>\n      <td>0.769982</td>\n      <td>0.749646</td>\n      <td>0.749646</td>\n    </tr>\n    <tr>\n      <td>3</td>\n      <td>0.564000</td>\n      <td>0.449891</td>\n      <td>0.771670</td>\n      <td>0.771412</td>\n      <td>0.772019</td>\n      <td>0.772019</td>\n    </tr>\n    <tr>\n      <td>4</td>\n      <td>0.564000</td>\n      <td>0.457455</td>\n      <td>0.769249</td>\n      <td>0.769315</td>\n      <td>0.769187</td>\n      <td>0.769187</td>\n    </tr>\n    <tr>\n      <td>5</td>\n      <td>0.438000</td>\n      <td>0.496361</td>\n      <td>0.762954</td>\n      <td>0.763595</td>\n      <td>0.765506</td>\n      <td>0.765506</td>\n    </tr>\n  </tbody>\n</table><p>"
          },
          "metadata": {}
        },
        {
          "output_type": "display_data",
          "data": {
            "text/plain": "<IPython.core.display.HTML object>",
            "text/html": ""
          },
          "metadata": {}
        },
        {
          "name": "stdout",
          "text": "Classification Report:\n              precision    recall  f1-score   support\n\n   distorted       0.73      0.73      0.73      2877\n     neutral       0.82      0.81      0.81      4186\n\n    accuracy                           0.78      7063\n   macro avg       0.77      0.77      0.77      7063\nweighted avg       0.78      0.78      0.78      7063\n\nConfusion Matrix:\n",
          "output_type": "stream"
        },
        {
          "output_type": "display_data",
          "data": {
            "text/plain": "<Figure size 1000x800 with 2 Axes>",
            "image/png": "[encoded data removed]"
          },
          "metadata": {}
        },
        {
          "name": "stderr",
          "text": "huggingface/tokenizers: The current process just got forked, after parallelism has already been used. Disabling parallelism to avoid deadlocks...\nTo disable this warning, you can either:\n\t- Avoid using `tokenizers` before the fork if possible\n\t- Explicitly set the environment variable TOKENIZERS_PARALLELISM=(true | false)\nhuggingface/tokenizers: The current process just got forked, after parallelism has already been used. Disabling parallelism to avoid deadlocks...\nTo disable this warning, you can either:\n\t- Avoid using `tokenizers` before the fork if possible\n\t- Explicitly set the environment variable TOKENIZERS_PARALLELISM=(true | false)\nhuggingface/tokenizers: The current process just got forked, after parallelism has already been used. Disabling parallelism to avoid deadlocks...\nTo disable this warning, you can either:\n\t- Avoid using `tokenizers` before the fork if possible\n\t- Explicitly set the environment variable TOKENIZERS_PARALLELISM=(true | false)\n",
          "output_type": "stream"
        },
        {
          "output_type": "display_data",
          "data": {
            "text/plain": "Empty DataFrame\nColumns: [sentence, SR_RI, BT_Opus_MT]\nIndex: []",
            "text/html": "<div>\n<style scoped>\n    .dataframe tbody tr th:only-of-type {\n        vertical-align: middle;\n    }\n\n    .dataframe tbody tr th {\n        vertical-align: top;\n    }\n\n    .dataframe thead th {\n        text-align: right;\n    }\n</style>\n<table border=\"1\" class=\"dataframe\">\n  <thead>\n    <tr style=\"text-align: right;\">\n      <th></th>\n      <th>sentence</th>\n      <th>SR_RI</th>\n      <th>BT_Opus_MT</th>\n    </tr>\n  </thead>\n  <tbody>\n  </tbody>\n</table>\n</div>"
          },
          "metadata": {}
        },
        {
          "output_type": "display_data",
          "data": {
            "text/plain": "Generating train split: 0 examples [00:00, ? examples/s]",
            "application/vnd.jupyter.widget-view+json": {
              "version_major": 2,
              "version_minor": 0,
              "model_id": "f4a3757fdafc4fb5a9bebc004c565163"
            }
          },
          "metadata": {}
        },
        {
          "output_type": "display_data",
          "data": {
            "text/plain": "Generating eval split: 0 examples [00:00, ? examples/s]",
            "application/vnd.jupyter.widget-view+json": {
              "version_major": 2,
              "version_minor": 0,
              "model_id": "9b85873dddde434492aa75a7a3840d96"
            }
          },
          "metadata": {}
        },
        {
          "output_type": "display_data",
          "data": {
            "text/plain": "Generating test split: 0 examples [00:00, ? examples/s]",
            "application/vnd.jupyter.widget-view+json": {
              "version_major": 2,
              "version_minor": 0,
              "model_id": "096d0ce6c15542d396abb539695bb2e7"
            }
          },
          "metadata": {}
        },
        {
          "output_type": "display_data",
          "data": {
            "text/plain": "Map:   0%|          | 0/98866 [00:00<?, ? examples/s]",
            "application/vnd.jupyter.widget-view+json": {
              "version_major": 2,
              "version_minor": 0,
              "model_id": "82d2e92441d74736821d6b159f8ea47f"
            }
          },
          "metadata": {}
        },
        {
          "output_type": "display_data",
          "data": {
            "text/plain": "Map:   0%|          | 0/3531 [00:00<?, ? examples/s]",
            "application/vnd.jupyter.widget-view+json": {
              "version_major": 2,
              "version_minor": 0,
              "model_id": "282d086667ec46c39ab4c945f5677ac0"
            }
          },
          "metadata": {}
        },
        {
          "output_type": "display_data",
          "data": {
            "text/plain": "Map:   0%|          | 0/7063 [00:00<?, ? examples/s]",
            "application/vnd.jupyter.widget-view+json": {
              "version_major": 2,
              "version_minor": 0,
              "model_id": "f127c22ca5ed401882f57f8478d9c983"
            }
          },
          "metadata": {}
        },
        {
          "name": "stderr",
          "text": "/opt/conda/lib/python3.10/site-packages/accelerate/accelerator.py:436: FutureWarning: Passing the following arguments to `Accelerator` is deprecated and will be removed in version 1.0 of Accelerate: dict_keys(['dispatch_batches', 'split_batches', 'even_batches', 'use_seedable_sampler']). Please pass an `accelerate.DataLoaderConfiguration` instead: \ndataloader_config = DataLoaderConfiguration(dispatch_batches=None, split_batches=False, even_batches=True, use_seedable_sampler=True)\n  warnings.warn(\n",
          "output_type": "stream"
        },
        {
          "name": "stdout",
          "text": "Training Started!\n",
          "output_type": "stream"
        },
        {
          "output_type": "display_data",
          "data": {
            "text/plain": "<IPython.core.display.HTML object>",
            "text/html": "\n    <div>\n      \n      <progress value='1320' max='6600' style='width:300px; height:20px; vertical-align: middle;'></progress>\n      [1320/6600 1:27:38 < 5:51:05, 0.25 it/s, Epoch 4/20]\n    </div>\n    <table border=\"1\" class=\"dataframe\">\n  <thead>\n <tr style=\"text-align: left;\">\n      <th>Epoch</th>\n      <th>Training Loss</th>\n      <th>Validation Loss</th>\n      <th>F1</th>\n      <th>Precision</th>\n      <th>Recall</th>\n      <th>Accuracy</th>\n    </tr>\n  </thead>\n  <tbody>\n    <tr>\n      <td>1</td>\n      <td>No log</td>\n      <td>0.467256</td>\n      <td>0.746810</td>\n      <td>0.752602</td>\n      <td>0.753044</td>\n      <td>0.753044</td>\n    </tr>\n    <tr>\n      <td>2</td>\n      <td>0.581300</td>\n      <td>0.447646</td>\n      <td>0.764527</td>\n      <td>0.767023</td>\n      <td>0.768338</td>\n      <td>0.768338</td>\n    </tr>\n    <tr>\n      <td>3</td>\n      <td>0.581300</td>\n      <td>0.449874</td>\n      <td>0.772584</td>\n      <td>0.772249</td>\n      <td>0.773152</td>\n      <td>0.773152</td>\n    </tr>\n    <tr>\n      <td>4</td>\n      <td>0.459300</td>\n      <td>0.461748</td>\n      <td>0.772722</td>\n      <td>0.773304</td>\n      <td>0.772302</td>\n      <td>0.772302</td>\n    </tr>\n  </tbody>\n</table><p>"
          },
          "metadata": {}
        },
        {
          "output_type": "display_data",
          "data": {
            "text/plain": "<IPython.core.display.HTML object>",
            "text/html": ""
          },
          "metadata": {}
        },
        {
          "name": "stdout",
          "text": "Classification Report:\n              precision    recall  f1-score   support\n\n   distorted       0.77      0.68      0.72      2877\n     neutral       0.79      0.86      0.83      4186\n\n    accuracy                           0.79      7063\n   macro avg       0.78      0.77      0.77      7063\nweighted avg       0.78      0.79      0.78      7063\n\nConfusion Matrix:\n",
          "output_type": "stream"
        },
        {
          "output_type": "display_data",
          "data": {
            "text/plain": "<Figure size 1000x800 with 2 Axes>",
            "image/png": "[encoded data removed]"
          },
          "metadata": {}
        },
        {
          "name": "stderr",
          "text": "huggingface/tokenizers: The current process just got forked, after parallelism has already been used. Disabling parallelism to avoid deadlocks...\nTo disable this warning, you can either:\n\t- Avoid using `tokenizers` before the fork if possible\n\t- Explicitly set the environment variable TOKENIZERS_PARALLELISM=(true | false)\nhuggingface/tokenizers: The current process just got forked, after parallelism has already been used. Disabling parallelism to avoid deadlocks...\nTo disable this warning, you can either:\n\t- Avoid using `tokenizers` before the fork if possible\n\t- Explicitly set the environment variable TOKENIZERS_PARALLELISM=(true | false)\nhuggingface/tokenizers: The current process just got forked, after parallelism has already been used. Disabling parallelism to avoid deadlocks...\nTo disable this warning, you can either:\n\t- Avoid using `tokenizers` before the fork if possible\n\t- Explicitly set the environment variable TOKENIZERS_PARALLELISM=(true | false)\n",
          "output_type": "stream"
        },
        {
          "output_type": "display_data",
          "data": {
            "text/plain": "Empty DataFrame\nColumns: [sentence, WE_Sub_BERT, SR_RI, BT_Opus_MT]\nIndex: []",
            "text/html": "<div>\n<style scoped>\n    .dataframe tbody tr th:only-of-type {\n        vertical-align: middle;\n    }\n\n    .dataframe tbody tr th {\n        vertical-align: top;\n    }\n\n    .dataframe thead th {\n        text-align: right;\n    }\n</style>\n<table border=\"1\" class=\"dataframe\">\n  <thead>\n    <tr style=\"text-align: right;\">\n      <th></th>\n      <th>sentence</th>\n      <th>WE_Sub_BERT</th>\n      <th>SR_RI</th>\n      <th>BT_Opus_MT</th>\n    </tr>\n  </thead>\n  <tbody>\n  </tbody>\n</table>\n</div>"
          },
          "metadata": {}
        },
        {
          "output_type": "display_data",
          "data": {
            "text/plain": "Generating train split: 0 examples [00:00, ? examples/s]",
            "application/vnd.jupyter.widget-view+json": {
              "version_major": 2,
              "version_minor": 0,
              "model_id": "33d1ab0f7b234a18a5c52bb2bab28e15"
            }
          },
          "metadata": {}
        },
        {
          "output_type": "display_data",
          "data": {
            "text/plain": "Generating eval split: 0 examples [00:00, ? examples/s]",
            "application/vnd.jupyter.widget-view+json": {
              "version_major": 2,
              "version_minor": 0,
              "model_id": "3c76e04a88cf42e79db3f77413911ebd"
            }
          },
          "metadata": {}
        },
        {
          "output_type": "display_data",
          "data": {
            "text/plain": "Generating test split: 0 examples [00:00, ? examples/s]",
            "application/vnd.jupyter.widget-view+json": {
              "version_major": 2,
              "version_minor": 0,
              "model_id": "dd34e1e468d34d388a3e88aa1f593337"
            }
          },
          "metadata": {}
        },
        {
          "output_type": "display_data",
          "data": {
            "text/plain": "Map:   0%|          | 0/123583 [00:00<?, ? examples/s]",
            "application/vnd.jupyter.widget-view+json": {
              "version_major": 2,
              "version_minor": 0,
              "model_id": "641258dc2297453da656af6710bd5509"
            }
          },
          "metadata": {}
        },
        {
          "output_type": "display_data",
          "data": {
            "text/plain": "Map:   0%|          | 0/3531 [00:00<?, ? examples/s]",
            "application/vnd.jupyter.widget-view+json": {
              "version_major": 2,
              "version_minor": 0,
              "model_id": "7996fa961b9d410da8cf6341305d60ef"
            }
          },
          "metadata": {}
        },
        {
          "output_type": "display_data",
          "data": {
            "text/plain": "Map:   0%|          | 0/7063 [00:00<?, ? examples/s]",
            "application/vnd.jupyter.widget-view+json": {
              "version_major": 2,
              "version_minor": 0,
              "model_id": "d240d9b3b0944f7a9944627283dd4f1d"
            }
          },
          "metadata": {}
        },
        {
          "name": "stderr",
          "text": "/opt/conda/lib/python3.10/site-packages/accelerate/accelerator.py:436: FutureWarning: Passing the following arguments to `Accelerator` is deprecated and will be removed in version 1.0 of Accelerate: dict_keys(['dispatch_batches', 'split_batches', 'even_batches', 'use_seedable_sampler']). Please pass an `accelerate.DataLoaderConfiguration` instead: \ndataloader_config = DataLoaderConfiguration(dispatch_batches=None, split_batches=False, even_batches=True, use_seedable_sampler=True)\n  warnings.warn(\n",
          "output_type": "stream"
        },
        {
          "name": "stdout",
          "text": "Training Started!\n",
          "output_type": "stream"
        },
        {
          "output_type": "display_data",
          "data": {
            "text/plain": "<IPython.core.display.HTML object>",
            "text/html": "\n    <div>\n      \n      <progress value='1236' max='8240' style='width:300px; height:20px; vertical-align: middle;'></progress>\n      [1236/8240 1:21:36 < 7:43:13, 0.25 it/s, Epoch 3/20]\n    </div>\n    <table border=\"1\" class=\"dataframe\">\n  <thead>\n <tr style=\"text-align: left;\">\n      <th>Epoch</th>\n      <th>Training Loss</th>\n      <th>Validation Loss</th>\n      <th>F1</th>\n      <th>Precision</th>\n      <th>Recall</th>\n      <th>Accuracy</th>\n    </tr>\n  </thead>\n  <tbody>\n    <tr>\n      <td>1</td>\n      <td>No log</td>\n      <td>0.465226</td>\n      <td>0.764041</td>\n      <td>0.773106</td>\n      <td>0.762107</td>\n      <td>0.762107</td>\n    </tr>\n    <tr>\n      <td>2</td>\n      <td>0.594500</td>\n      <td>0.456744</td>\n      <td>0.767326</td>\n      <td>0.768670</td>\n      <td>0.770320</td>\n      <td>0.770320</td>\n    </tr>\n    <tr>\n      <td>3</td>\n      <td>0.482400</td>\n      <td>0.449296</td>\n      <td>0.774908</td>\n      <td>0.774722</td>\n      <td>0.775135</td>\n      <td>0.775135</td>\n    </tr>\n  </tbody>\n</table><p>"
          },
          "metadata": {}
        },
        {
          "output_type": "display_data",
          "data": {
            "text/plain": "<IPython.core.display.HTML object>",
            "text/html": ""
          },
          "metadata": {}
        },
        {
          "name": "stdout",
          "text": "Classification Report:\n              precision    recall  f1-score   support\n\n   distorted       0.73      0.74      0.74      2877\n     neutral       0.82      0.81      0.82      4186\n\n    accuracy                           0.79      7063\n   macro avg       0.78      0.78      0.78      7063\nweighted avg       0.79      0.79      0.79      7063\n\nConfusion Matrix:\n",
          "output_type": "stream"
        },
        {
          "output_type": "display_data",
          "data": {
            "text/plain": "<Figure size 1000x800 with 2 Axes>",
            "image/png": "[encoded data removed]"
          },
          "metadata": {}
        },
        {
          "name": "stderr",
          "text": "huggingface/tokenizers: The current process just got forked, after parallelism has already been used. Disabling parallelism to avoid deadlocks...\nTo disable this warning, you can either:\n\t- Avoid using `tokenizers` before the fork if possible\n\t- Explicitly set the environment variable TOKENIZERS_PARALLELISM=(true | false)\nhuggingface/tokenizers: The current process just got forked, after parallelism has already been used. Disabling parallelism to avoid deadlocks...\nTo disable this warning, you can either:\n\t- Avoid using `tokenizers` before the fork if possible\n\t- Explicitly set the environment variable TOKENIZERS_PARALLELISM=(true | false)\nhuggingface/tokenizers: The current process just got forked, after parallelism has already been used. Disabling parallelism to avoid deadlocks...\nTo disable this warning, you can either:\n\t- Avoid using `tokenizers` before the fork if possible\n\t- Explicitly set the environment variable TOKENIZERS_PARALLELISM=(true | false)\n",
          "output_type": "stream"
        }
      ]
    },
    {
      "cell_type": "code",
      "source": [],
      "metadata": {
        "id": "R_9GCsPCM8Gu"
      },
      "execution_count": null,
      "outputs": []
    },
    {
      "cell_type": "code",
      "source": [],
      "metadata": {
        "id": "XOoJW4NIM8Gv"
      },
      "execution_count": null,
      "outputs": []
    }
  ]
}